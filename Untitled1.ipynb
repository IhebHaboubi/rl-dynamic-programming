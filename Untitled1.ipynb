{
 "cells": [
  {
   "cell_type": "markdown",
   "metadata": {},
   "source": [
    "# Model-Based RL: Policy and Value Iteration using Dynamic Programming\n",
    "\n",
    "We are going to use openai gym FrozenLake8x8 environment to implement two dynamic programming algorithms : Policy iteration and value iteration.\n",
    "\n",
    "Dynamic Programming (DP) methods assume that we have a perfect model of the environment's Markov Decision Process (MDP). That's usually not the case in practice, but it's important to study DP anyway."
   ]
  },
  {
   "cell_type": "code",
   "execution_count": 18,
   "metadata": {},
   "outputs": [],
   "source": [
    "import random\n",
    "import time\n",
    "import numpy as np \n",
    "import gym\n",
    "from IPython.display import clear_output\n",
    "\n",
    "import matplotlib.pyplot as plt \n",
    "%matplotlib inline"
   ]
  },
  {
   "cell_type": "markdown",
   "metadata": {},
   "source": [
    "Let's start by loading our environment"
   ]
  },
  {
   "cell_type": "code",
   "execution_count": 2,
   "metadata": {},
   "outputs": [],
   "source": [
    "env = gym.make(\"FrozenLake8x8-v0\")"
   ]
  },
  {
   "cell_type": "markdown",
   "metadata": {},
   "source": [
    "The agent controls the movement of a character in a grid world. Some tiles of the grid are walkable, and others lead to the agent falling into the water. Additionally, the movement direction of the agent is uncertain and only partially depends on the chosen direction. The agent is rewarded for finding a walkable path to a goal tile."
   ]
  },
  {
   "cell_type": "markdown",
   "metadata": {},
   "source": [
    "Winter is here. You and your friends were tossing around a frisbee at the park when you made a wild throw that left the frisbee out in the middle of the lake. The water is mostly frozen, but there are a few holes where the ice has melted. If you step into one of those holes, you'll fall into the freezing water. At this time, there's an international frisbee shortage, so it's absolutely imperative that you navigate across the lake and retrieve the disc. However, the ice is slippery, so you won't always move in the direction you intend.\n",
    "\n",
    "The surface is described using a grid like the following:\n",
    "\n",
    "SFFF       (S: starting point, safe)\\\n",
    "FHFH       (F: frozen surface, safe)\\\n",
    "FFFH       (H: hole, fall to your doom)\\\n",
    "HFFG       (G: goal, where the frisbee is located)\\\n",
    "\n",
    "The episode ends when you reach the goal or fall in a hole. You receive a reward of 1 if you reach the goal, and zero otherwise."
   ]
  },
  {
   "cell_type": "code",
   "execution_count": 8,
   "metadata": {},
   "outputs": [],
   "source": [
    "gamma = 0.95\n",
    "tol = 1e-4"
   ]
  },
  {
   "cell_type": "markdown",
   "metadata": {},
   "source": [
    "## utility functions\n",
    "\n",
    "Before training the agent, we need to have some utility functions. The first function takes a policy as a parameter and evaluates it by calculating the success rate ( the agent reaching the goal without falling in a hole )"
   ]
  },
  {
   "cell_type": "code",
   "execution_count": 33,
   "metadata": {},
   "outputs": [],
   "source": [
    "def stats(env, pi, episodes=1000):\n",
    "    success = 0\n",
    "    for episode in range(episodes):\n",
    "        done = False\n",
    "        s = env.reset()\n",
    "        while not done:\n",
    "            a = pi[s]\n",
    "            s, reward , done, _ = env.step(a)\n",
    "        if reward:\n",
    "            success += 1\n",
    "    return {\"success\" : success, \"failure\" : episodes - success, \"rate\" : success / episodes, \"episodes\" : episodes}"
   ]
  },
  {
   "cell_type": "markdown",
   "metadata": {},
   "source": [
    "This function takes a value array as a parameter and visualize it in a 2D plot"
   ]
  },
  {
   "cell_type": "code",
   "execution_count": 24,
   "metadata": {},
   "outputs": [],
   "source": [
    "def plot_value(v):\n",
    "    plt.figure(figsize=(10,8))\n",
    "    plt.imshow(v.reshape(8,8))\n",
    "    plt.colorbar()\n",
    "    plt.title(\"value function\")\n",
    "    plt.show()"
   ]
  },
  {
   "cell_type": "markdown",
   "metadata": {},
   "source": [
    "This function uses the trained policy to play the game a certain number of episodes"
   ]
  },
  {
   "cell_type": "code",
   "execution_count": 29,
   "metadata": {},
   "outputs": [],
   "source": [
    "def play(env, pi, episodes=3):\n",
    "    for episode in range(episodes):\n",
    "        done = False\n",
    "        s = env.reset()\n",
    "        time.sleep(1)\n",
    "        while not done:\n",
    "            a = pi[s]\n",
    "            s, _ , done, _ = env.step(a)\n",
    "            print(\"EPISODE \",episode + 1,\"\\n\")\n",
    "            env.render()\n",
    "            time.sleep(0.2)\n",
    "            clear_output(True)\n",
    "        time.sleep(1)"
   ]
  },
  {
   "cell_type": "markdown",
   "metadata": {},
   "source": [
    "## 1. Policy iteration"
   ]
  },
  {
   "cell_type": "code",
   "execution_count": 35,
   "metadata": {},
   "outputs": [],
   "source": [
    "def one_step_lookahead(env, v, s, a):\n",
    "    ans = 0  \n",
    "    for prob, next_state, reward, _ in env.P[s][a]:\n",
    "        ans += prob * (reward + gamma * v[next_state])\n",
    "    return ans"
   ]
  },
  {
   "cell_type": "code",
   "execution_count": 36,
   "metadata": {},
   "outputs": [],
   "source": [
    "def policy_evaluation(env, pi, v):\n",
    "    while True:\n",
    "        delta = 0\n",
    "        for s in range(env.nS):\n",
    "            temp = v[s]\n",
    "            v[s] = one_step_lookahead(env, v, s, pi[s])\n",
    "            delta = max(delta, abs(v[s]-temp))\n",
    "        if delta < tol:\n",
    "            break\n",
    "    return v"
   ]
  },
  {
   "cell_type": "code",
   "execution_count": 37,
   "metadata": {},
   "outputs": [],
   "source": [
    "def policy_improvement(env, pi, v):\n",
    "    stable = True\n",
    "    for s in range(env.nS):\n",
    "        temp = pi[s]\n",
    "        # pick the action with highest value\n",
    "        cur = pi[s]\n",
    "        m = 0\n",
    "        for a in range(env.nA):\n",
    "            x = one_step_lookahead(env, v, s, a)\n",
    "            if(x > m):\n",
    "                m = x \n",
    "                cur = a \n",
    "        pi[s] = cur\n",
    "        if temp != pi[s]:\n",
    "            stable = False\n",
    "    return pi, stable"
   ]
  },
  {
   "cell_type": "code",
   "execution_count": 38,
   "metadata": {},
   "outputs": [],
   "source": [
    "def policy_iteration(env):\n",
    "    stable = False\n",
    "    v = np.zeros(env.nS)\n",
    "    pi = np.zeros(env.nS,int)\n",
    "    while not stable:\n",
    "        v = policy_evaluation(env, pi, v)\n",
    "        pi, stable = policy_improvement(env, pi, v)\n",
    "    return v, pi"
   ]
  },
  {
   "cell_type": "code",
   "execution_count": 39,
   "metadata": {},
   "outputs": [],
   "source": [
    "v, pi = policy_iteration(env)"
   ]
  },
  {
   "cell_type": "code",
   "execution_count": 40,
   "metadata": {},
   "outputs": [
    {
     "data": {
      "image/png": "[encoded data removed]",
      "text/plain": [
       "<Figure size 720x576 with 2 Axes>"
      ]
     },
     "metadata": {
      "needs_background": "light"
     },
     "output_type": "display_data"
    }
   ],
   "source": [
    "plot_value(v)"
   ]
  },
  {
   "cell_type": "code",
   "execution_count": 41,
   "metadata": {},
   "outputs": [
    {
     "name": "stdout",
     "output_type": "stream",
     "text": [
      "the model was evaluate on a total of 1000 episodes\n",
      "the agent succeeded 741 times\n",
      "the agent failed 259 times\n",
      "success rate : 74.1 %\n"
     ]
    }
   ],
   "source": [
    "info = stats(env, pi)\n",
    "print(f\"the model was evaluate on a total of {info['episodes']} episodes\")\n",
    "print(f\"the agent succeeded {info['success']} times\")\n",
    "print(f\"the agent failed {info['failure']} times\")\n",
    "print(f\"success rate : {info['rate'] * 100} %\")"
   ]
  },
  {
   "cell_type": "markdown",
   "metadata": {},
   "source": [
    "## 2. Value iteration"
   ]
  },
  {
   "cell_type": "code",
   "execution_count": 49,
   "metadata": {},
   "outputs": [],
   "source": [
    "def value_iteration(env):\n",
    "    v = np.zeros(env.nS)\n",
    "    pi = np.zeros(env.nS, int)\n",
    "    error = []\n",
    "    while True:\n",
    "        delta = 0\n",
    "        for s in range(env.nS):\n",
    "            temp = v[s]\n",
    "            for a in range(env.nA):\n",
    "                v[s] = max(v[s], one_step_lookahead(env, v, s, a))\n",
    "            delta = max(delta, abs(v[s] - temp))\n",
    "        if delta < tol:\n",
    "            break\n",
    "        error.append(delta)\n",
    "    pi, _ = policy_improvement(env,pi,v)\n",
    "    return v, pi, error "
   ]
  },
  {
   "cell_type": "code",
   "execution_count": 50,
   "metadata": {},
   "outputs": [],
   "source": [
    "v, pi, error = value_iteration(env)"
   ]
  },
  {
   "cell_type": "code",
   "execution_count": 45,
   "metadata": {},
   "outputs": [
    {
     "data": {
      "image/png": "[encoded data removed]",
      "text/plain": [
       "<Figure size 720x576 with 2 Axes>"
      ]
     },
     "metadata": {
      "needs_background": "light"
     },
     "output_type": "display_data"
    }
   ],
   "source": [
    "plot_value(v)"
   ]
  },
  {
   "cell_type": "code",
   "execution_count": 53,
   "metadata": {},
   "outputs": [
    {
     "data": {
      "text/plain": [
       "Text(0, 0.5, 'error')"
      ]
     },
     "execution_count": 53,
     "metadata": {},
     "output_type": "execute_result"
    },
    {
     "data": {
      "image/png": "[encoded data removed]",
      "text/plain": [
       "<Figure size 576x576 with 1 Axes>"
      ]
     },
     "metadata": {
      "needs_background": "light"
     },
     "output_type": "display_data"
    }
   ],
   "source": [
    "plt.figure(figsize=(8,8))\n",
    "plt.plot(error)\n",
    "plt.title(\"value error during training\")\n",
    "plt.xlabel(\"number of iterations\")\n",
    "plt.ylabel(\"error\")"
   ]
  },
  {
   "cell_type": "code",
   "execution_count": 46,
   "metadata": {},
   "outputs": [
    {
     "name": "stdout",
     "output_type": "stream",
     "text": [
      "the model was evaluate on a total of 1000 episodes\n",
      "the agent succeeded 770 times\n",
      "the agent failed 230 times\n",
      "success rate : 77.0 %\n"
     ]
    }
   ],
   "source": [
    "info = stats(env, pi)\n",
    "print(f\"the model was evaluate on a total of {info['episodes']} episodes\")\n",
    "print(f\"the agent succeeded {info['success']} times\")\n",
    "print(f\"the agent failed {info['failure']} times\")\n",
    "print(f\"success rate : {info['rate'] * 100} %\")"
   ]
  },
  {
   "cell_type": "code",
   "execution_count": 47,
   "metadata": {},
   "outputs": [
    {
     "name": "stdout",
     "output_type": "stream",
     "text": [
      "EPISODE  3 \n",
      "\n",
      "  (Right)\n",
      "SFFFFFFF\n",
      "FFFFFFFF\n",
      "FFFHFFFF\n",
      "FFFFFHFF\n",
      "FFFHFFFF\n",
      "FHHFFFHF\n",
      "FHFFHFHF\n",
      "FFFHFFF\u001b[41mG\u001b[0m\n"
     ]
    }
   ],
   "source": [
    "play(env, pi)"
   ]
  },
  {
   "cell_type": "code",
   "execution_count": null,
   "metadata": {},
   "outputs": [],
   "source": []
  }
 ],
 "metadata": {
  "kernelspec": {
   "display_name": "Python 3",
   "language": "python",
   "name": "python3"
  },
  "language_info": {
   "codemirror_mode": {
    "name": "ipython",
    "version": 3
   },
   "file_extension": ".py",
   "mimetype": "text/x-python",
   "name": "python",
   "nbconvert_exporter": "python",
   "pygments_lexer": "ipython3",
   "version": "3.8.5"
  }
 },
 "nbformat": 4,
 "nbformat_minor": 4
}
